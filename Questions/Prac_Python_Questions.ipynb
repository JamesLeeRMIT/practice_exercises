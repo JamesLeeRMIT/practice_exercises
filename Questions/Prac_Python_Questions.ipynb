{
 "cells": [
  {
   "cell_type": "markdown",
   "metadata": {},
   "source": [
    "# Python Programming Exercises"
   ]
  },
  {
   "cell_type": "markdown",
   "metadata": {},
   "source": [
    "Reference for some of these exercises is [here](https://www.w3resource.com/python-exercises/)."
   ]
  },
  {
   "cell_type": "markdown",
   "metadata": {
    "heading_collapsed": true
   },
   "source": [
    "## Exercise 1\n",
    "\n",
    "Write a Python function to check whether a number is divisible by another number. Your function should accept two integers values and return a boolean. "
   ]
  },
  {
   "cell_type": "markdown",
   "metadata": {
    "hidden": true
   },
   "source": [
    "**Examples**\n",
    "\n",
    "* $23/5 = 4 \\frac{3}{5} \\implies 23$ is not divisible by $5$ as the remainder is not $0 \\implies $ `False`\n",
    "* $20/5 = 4 \\frac{0}{5} = 4 \\implies 20$ is divisible by $5$ as the remainder is $0 \\implies $ `True`"
   ]
  },
  {
   "cell_type": "code",
   "execution_count": 6,
   "metadata": {
    "code_folding": [],
    "hidden": true
   },
   "outputs": [
    {
     "name": "stdout",
     "output_type": "stream",
     "text": [
      "False\n"
     ]
    }
   ],
   "source": [
    "def is_divisible(a, b):\n",
    "    if a % b == 0:\n",
    "        return True\n",
    "    else:\n",
    "        return False\n",
    "    \n",
    "print(is_divisible(int(input()), int(input())))"
   ]
  },
  {
   "cell_type": "markdown",
   "metadata": {
    "heading_collapsed": true
   },
   "source": [
    "## Exercise 2 \n",
    "\n",
    "Fibonacci numbers start with 0, 1 and continues such that the next number is the sum of the previous two numbers. Write a Python function that gives a list of the first $N$ Fibonacci numbers. \n",
    "\n",
    "**Bonus:** Make the first two numbers optional with default values of 0 and 1. "
   ]
  },
  {
   "cell_type": "markdown",
   "metadata": {
    "hidden": true
   },
   "source": [
    "**Some illustrations**\n",
    "\n",
    "How does Fibonacci sequence look like?\n",
    "\n",
    "$$0, 1, 1, 2, 3, 5, 8, 13...$$\n",
    "\n",
    "In terms of iteration $i$, let $x_{i}$ be the $i^{th}$ number in a Fibonacci sequence, we can break down\n",
    "\n",
    "\n",
    "* $i = 0$, $a = x_0 = 0, b = x_1 = 1$\n",
    "* $i = 1$, $x_2 = x_1 + x_0 = 1 + 0 = 1$\n",
    "* $i = 2$, $x_3 = x_2 + x_1 = 1 + 1 = 2$\n",
    "* $i = 3$, $x_4 = x_3 + x_2 = 2 + 1 = 3$\n",
    "* $i = 4$, $x_5 = x_4 + x_3 = 5 + 3 = 8$\n",
    "\n",
    "* $\\vdots$\n",
    "\n",
    "In general, $x_{i+1} = x_{i} + x_{i-1}$.\n",
    "\n",
    "* $x_{i}' \\rightarrow x_{i+1} = x_{i} + x_{i-1}$ after one iteration\n",
    "* $x_{i-1}' \\rightarrow x_{i}$ after one iteration"
   ]
  },
  {
   "cell_type": "code",
   "execution_count": null,
   "metadata": {
    "hidden": true
   },
   "outputs": [],
   "source": []
  },
  {
   "cell_type": "markdown",
   "metadata": {
    "heading_collapsed": true
   },
   "source": [
    "## Exercise 3\n",
    "\n",
    "Write a Python program to count the number of even and odd numbers in a given list of numbers."
   ]
  },
  {
   "cell_type": "code",
   "execution_count": 8,
   "metadata": {
    "hidden": true
   },
   "outputs": [
    {
     "name": "stdout",
     "output_type": "stream",
     "text": [
      "Even: 6\n",
      "Odd: 5\n"
     ]
    }
   ],
   "source": [
    "def isEven(user):\n",
    "    if (int(user) % 2 == 0) or (int(user) == 0):\n",
    "        return True\n",
    "    else:\n",
    "        return False\n",
    "    \n",
    "numList = [0, 1, 2, 3, 4, 5, 6, 7, 8, 9, 10]\n",
    "odd = 0\n",
    "even = 0\n",
    "\n",
    "for number in numList:\n",
    "    if isEven(number):\n",
    "        even += 1\n",
    "    else:\n",
    "        odd += 1\n",
    "        \n",
    "print(\"Even: \" + str(even))\n",
    "print(\"Odd: \" + str(odd))"
   ]
  },
  {
   "cell_type": "markdown",
   "metadata": {
    "heading_collapsed": true
   },
   "source": [
    "## Exercise 4\n",
    "\n",
    "Write a Python function that accepts a string and calculates the number of upper case and lower case letters using a dictionary with two keys."
   ]
  },
  {
   "cell_type": "markdown",
   "metadata": {
    "hidden": true
   },
   "source": [
    "**Tricks**\n",
    "\n",
    "* `.isupper()` and * `.islower()`\n"
   ]
  },
  {
   "cell_type": "markdown",
   "metadata": {
    "hidden": true
   },
   "source": [
    "**Remarks**\n",
    "\n",
    "* Special characters are not alphabets. So, `'!'.isupper()` or `'!'.isupper()` will return `False`\n",
    "* Numeric characters are not alphabets. So, `'2'.isupper()` or `'2'.isupper()` will return `False`"
   ]
  },
  {
   "cell_type": "code",
   "execution_count": 5,
   "metadata": {
    "hidden": true
   },
   "outputs": [
    {
     "name": "stdout",
     "output_type": "stream",
     "text": [
      "{'upperCharacters': 12, 'lowerCharacters': 10}\n"
     ]
    }
   ],
   "source": [
    "def upperloweradd(word):\n",
    "    dictOut = {\"upperCharacters\" : 0, \"lowerCharacters\" : 0}\n",
    "    \n",
    "    for char in word:\n",
    "        if char.isupper():\n",
    "            dictOut[\"upperCharacters\"] += 1\n",
    "        elif char.islower():\n",
    "            dictOut['lowerCharacters'] += 1\n",
    "    return dictOut\n",
    "\n",
    "letterDict = upperloweradd(input())\n",
    "\n",
    "print(letterDict)"
   ]
  },
  {
   "cell_type": "markdown",
   "metadata": {
    "heading_collapsed": true
   },
   "source": [
    "## Exercise 5\n",
    "\n",
    "Write a Python program to store duplicate elements in a given list."
   ]
  },
  {
   "cell_type": "code",
   "execution_count": 9,
   "metadata": {
    "hidden": true
   },
   "outputs": [
    {
     "name": "stdout",
     "output_type": "stream",
     "text": [
      "['this', 'is', 'a', 'test']\n",
      "['is', 'is']\n"
     ]
    }
   ],
   "source": [
    "userList = [\"this\", \"is\", \"is\", \"is\", \"a\", \"test\"]\n",
    "dupeList = []\n",
    "\n",
    "for index in range(len(userList)-2):\n",
    "    count = 0\n",
    "    for scan in userList:\n",
    "        if userList[index] == scan:\n",
    "            count += 1\n",
    "            \n",
    "    if count >= 2:\n",
    "        dupeList.append(userList[index])\n",
    "        userList.pop(index)\n",
    "            \n",
    "print(userList)\n",
    "print(dupeList)\n",
    "        "
   ]
  },
  {
   "cell_type": "markdown",
   "metadata": {
    "heading_collapsed": true
   },
   "source": [
    "## Exercise 6 \n",
    "\n",
    "Write a Python function that takes two lists and returns `True` if they have at least one common element."
   ]
  },
  {
   "cell_type": "code",
   "execution_count": 12,
   "metadata": {
    "hidden": true
   },
   "outputs": [
    {
     "name": "stdout",
     "output_type": "stream",
     "text": [
      "False\n"
     ]
    }
   ],
   "source": [
    "list1 = [1,2,3,4]\n",
    "list2 = [5,6,7,8]\n",
    "\n",
    "def commonality(list1, list2):\n",
    "    for scan1 in list1:\n",
    "        for scan2 in list2:\n",
    "            if scan1 == scan2:\n",
    "                return True\n",
    "            \n",
    "    return False\n",
    "\n",
    "print(commonality(list1, list2))"
   ]
  },
  {
   "cell_type": "markdown",
   "metadata": {
    "hidden": true
   },
   "source": [
    "***\n",
    "www.featureranking.com"
   ]
  }
 ],
 "metadata": {
  "hide_input": false,
  "kernelspec": {
   "display_name": "Python 3.10.6 64-bit",
   "language": "python",
   "name": "python3"
  },
  "language_info": {
   "codemirror_mode": {
    "name": "ipython",
    "version": 3
   },
   "file_extension": ".py",
   "mimetype": "text/x-python",
   "name": "python",
   "nbconvert_exporter": "python",
   "pygments_lexer": "ipython3",
   "version": "3.10.6"
  },
  "vscode": {
   "interpreter": {
    "hash": "5491d71fc16e9a31e1151bce6bf22448e419cac4574e74094bb325f2e66c5a08"
   }
  }
 },
 "nbformat": 4,
 "nbformat_minor": 2
}
